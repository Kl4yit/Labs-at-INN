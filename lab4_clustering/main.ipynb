{
 "cells": [
  {
   "cell_type": "code",
   "execution_count": 1,
   "metadata": {
    "pycharm": {
     "name": "#%%\n"
    }
   },
   "outputs": [
    {
     "name": "stdout",
     "output_type": "stream",
     "text": [
      "# digits: 10; # samples: 300; # features 35\n"
     ]
    }
   ],
   "source": [
    "import numpy as np\n",
    "from datagenerator import DataGenerator\n",
    "generator = DataGenerator(noise_level=3)\n",
    "\n",
    "(train_data, train_labels) = generator.get_train_data(data_amount=300)\n",
    "(test_data, test_labels) = generator.get_test_data(data_amount=100)\n",
    "\n",
    "(n_samples, n_features), n_digits = train_data.shape,  np.unique(train_labels).size\n",
    "print(f\"# digits: {n_digits}; # samples: {n_samples}; # features {n_features}\")"
   ]
  },
  {
   "cell_type": "code",
   "execution_count": 2,
   "metadata": {},
   "outputs": [
    {
     "data": {
      "image/png": "[encoded data removed]",
      "text/plain": [
       "<Figure size 432x288 with 1 Axes>"
      ]
     },
     "metadata": {
      "needs_background": "light"
     },
     "output_type": "display_data"
    },
    {
     "data": {
      "image/png": "[encoded data removed]",
      "text/plain": [
       "<Figure size 432x288 with 1 Axes>"
      ]
     },
     "metadata": {
      "needs_background": "light"
     },
     "output_type": "display_data"
    },
    {
     "data": {
      "image/png": "[encoded data removed]",
      "text/plain": [
       "<Figure size 432x288 with 1 Axes>"
      ]
     },
     "metadata": {
      "needs_background": "light"
     },
     "output_type": "display_data"
    }
   ],
   "source": [
    "import matplotlib.pyplot as plt\n",
    "\n",
    "def plot_image(pixels):\n",
    "    plt.imshow(pixels.reshape((7, 5)))\n",
    "    plt.show()\n",
    "    \n",
    "for i in range(3):\n",
    "    plot_image(train_data[i])"
   ]
  },
  {
   "cell_type": "code",
   "execution_count": 9,
   "metadata": {},
   "outputs": [
    {
     "data": {
      "image/png": "[encoded data removed]",
      "text/plain": [
       "<Figure size 1440x1728 with 2 Axes>"
      ]
     },
     "metadata": {
      "needs_background": "light"
     },
     "output_type": "display_data"
    }
   ],
   "source": [
    "from IPython.core.pylabtools import figsize\n",
    "from matplotlib import pyplot\n",
    "pyplot.figure(figsize(20, 24))\n",
    "\n",
    "pyplot.subplot(4, 3, 1)\n",
    "pyplot.hist(train_labels, bins=[0, 1, 2, 3, 4, 5, 6, 7, 8, 9])\n",
    "pyplot.title(\"Y_train\")\n",
    "\n",
    "pyplot.subplot(4, 3, 2)\n",
    "pyplot.hist(test_labels, bins=[0, 1, 2, 3, 4, 5, 6, 7, 8, 9])\n",
    "pyplot.title(\"Y_test\")\n",
    "\n",
    "pyplot.show()"
   ]
  },
  {
   "cell_type": "code",
   "execution_count": 3,
   "metadata": {
    "pycharm": {
     "name": "#%%\n"
    }
   },
   "outputs": [],
   "source": [
    "from time import time\n",
    "from sklearn import metrics\n",
    "from sklearn.pipeline import make_pipeline\n",
    "from sklearn.preprocessing import StandardScaler\n",
    "\n",
    "\n",
    "def bench_k_means(kmeans, name, data, labels, test_data, test_labels):\n",
    "    \"\"\"Benchmark to evaluate the KMeans initialization methods.\n",
    "\n",
    "    Parameters\n",
    "    ----------\n",
    "    kmeans : KMeans instance\n",
    "        A :class:`~sklearn.cluster.KMeans` instance with the initialization\n",
    "        already set.\n",
    "    name : str\n",
    "        Name given to the strategy. It will be used to show the results in a\n",
    "        table.\n",
    "    data : ndarray of shape (n_samples, n_features)\n",
    "        The data to cluster.\n",
    "    labels : ndarray of shape (n_samples,)\n",
    "        The labels used to compute the clustering metrics which requires some\n",
    "        supervision.\n",
    "    \"\"\"\n",
    "    t0 = time()\n",
    "    # estimator = make_pipeline(StandardScaler(), kmeans).fit(data) standardscaler not needed\n",
    "    estimator = kmeans.fit(data)\n",
    "    fit_time = time() - t0\n",
    "    results = [name, fit_time, estimator.inertia_]\n",
    "    \n",
    "\n",
    "    # Define the metrics which require only the true labels and estimator\n",
    "    # labels\n",
    "    clustering_metrics = [\n",
    "        metrics.homogeneity_score,\n",
    "        metrics.completeness_score,\n",
    "        metrics.v_measure_score,\n",
    "        metrics.adjusted_rand_score,\n",
    "        metrics.adjusted_mutual_info_score,\n",
    "    ]\n",
    "    results += [m(labels, estimator.labels_) for m in clustering_metrics]\n",
    "\n",
    "    # The silhouette score requires the full dataset\n",
    "    results += [\n",
    "        metrics.silhouette_score(\n",
    "            data,\n",
    "            estimator.labels_,\n",
    "            metric=\"euclidean\",\n",
    "            sample_size=300,\n",
    "        )\n",
    "    ]\n",
    "    \n",
    "    prediction = estimator.predict(test_data)\n",
    "    c = prediction == test_labels\n",
    "    res = 0\n",
    "    for i in c:\n",
    "        if i:\n",
    "           res += 1\n",
    "    \n",
    "    results += [\n",
    "        res / len(prediction)\n",
    "    ]\n",
    "    \n",
    "    # Show the results\n",
    "    formatter_result = (\n",
    "        \"{:9s}\\t{:.3f}s\\t{:.0f}\\t{:.3f}\\t{:.3f}\\t{:.3f}\\t{:.3f}\\t{:.3f}\\t{:.3f}\\t\\t{:.3f}\"\n",
    "    )\n",
    "    print(formatter_result.format(*results))"
   ]
  },
  {
   "cell_type": "markdown",
   "metadata": {},
   "source": [
    " \n",
    " #### Calling fit on the pipeline is the same as calling fit on each estimator in turn, \n",
    " transform the input and pass it on to the next step. The pipeline has all the methods \n",
    " that the last estimator in the pipeline has, i.e. if the last estimator is a classifier, the \n",
    " Pipeline can be used as a classifier. If the last estimator is a transformer, again, so is \n",
    " the pipeline.\n",
    " "
   ]
  },
  {
   "cell_type": "code",
   "execution_count": 4,
   "metadata": {},
   "outputs": [
    {
     "name": "stdout",
     "output_type": "stream",
     "text": [
      "____________________________________________________________________________________________________\n",
      "init\t\ttime\tinertia\thomo\tcompl\tv-meas\tARI\tAMI\tsilhouette\tclassic\n",
      "k-means++\t0.115s\t760\t0.939\t0.963\t0.951\t0.876\t0.947\t0.249\t\t0.160\n",
      "random   \t0.010s\t743\t0.976\t0.976\t0.976\t0.968\t0.974\t0.266\t\t0.110\n",
      "PCA-based\t0.003s\t764\t0.944\t0.994\t0.968\t0.906\t0.966\t0.251\t\t0.090\n",
      "____________________________________________________________________________________________________\n"
     ]
    }
   ],
   "source": [
    "from sklearn.cluster import KMeans\n",
    "from sklearn.decomposition import PCA\n",
    "\n",
    "print(100 * \"_\")\n",
    "print(\"init\\t\\ttime\\tinertia\\thomo\\tcompl\\tv-meas\\tARI\\tAMI\\tsilhouette\\tclassic\")\n",
    "\n",
    "kmeans = KMeans(init=\"k-means++\", n_clusters=n_digits, n_init=4, random_state=0)\n",
    "bench_k_means(kmeans=kmeans, name=\"k-means++\", data=train_data, labels=train_labels, \n",
    "              test_data=test_data, test_labels=test_labels)\n",
    "\n",
    "kmeans = KMeans(init=\"random\", n_clusters=n_digits, n_init=4, random_state=0)\n",
    "bench_k_means(kmeans=kmeans, name=\"random\", data=train_data, labels=train_labels, \n",
    "              test_data=test_data, test_labels=test_labels)\n",
    "\n",
    "pca = PCA(n_components=n_digits).fit(train_data)\n",
    "kmeans = KMeans(init=pca.components_, n_clusters=n_digits, n_init=1)\n",
    "bench_k_means(kmeans=kmeans, name=\"PCA-based\", data=train_data, labels=train_labels, \n",
    "              test_data=test_data, test_labels=test_labels)\n",
    "\n",
    "print(100 * \"_\")"
   ]
  }
 ],
 "metadata": {
  "kernelspec": {
   "display_name": "Python 3 (ipykernel)",
   "language": "python",
   "name": "python3"
  },
  "language_info": {
   "codemirror_mode": {
    "name": "ipython",
    "version": 3
   },
   "file_extension": ".py",
   "mimetype": "text/x-python",
   "name": "python",
   "nbconvert_exporter": "python",
   "pygments_lexer": "ipython3",
   "version": "3.10.0"
  }
 },
 "nbformat": 4,
 "nbformat_minor": 1
}